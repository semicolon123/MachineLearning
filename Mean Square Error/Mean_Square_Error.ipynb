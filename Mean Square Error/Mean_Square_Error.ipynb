{
  "nbformat": 4,
  "nbformat_minor": 0,
  "metadata": {
    "colab": {
      "name": "Mean Square Error.ipynb",
      "provenance": []
    },
    "kernelspec": {
      "name": "python3",
      "display_name": "Python 3"
    }
  },
  "cells": [
    {
      "cell_type": "code",
      "metadata": {
        "id": "DEs_pLPlmAti"
      },
      "source": [
        "import numpy as np\r\n",
        "import pandas as pd"
      ],
      "execution_count": 3,
      "outputs": []
    },
    {
      "cell_type": "code",
      "metadata": {
        "id": "fS5POpBqmjhM"
      },
      "source": [
        "def gradient_descent(x,y):\r\n",
        "  curr_m = curr_b = 0\r\n",
        "  iterations = 10000\r\n",
        "  alpha = 0.01\r\n",
        "  n = len(x)\r\n",
        "\r\n",
        "  for i in range(iterations):\r\n",
        "    y_predicted = curr_m*x + curr_b\r\n",
        "    dm = -(2/n) * (sum(x*(y-y_predicted))) \r\n",
        "    db = -(2/n) * (sum((y-y_predicted))) \r\n",
        "    cost = (1/n) * sum([val**2 for val in (y-y_predicted)])\r\n",
        "\r\n",
        "    curr_m = curr_m - alpha*dm\r\n",
        "    curr_b = curr_b - alpha*db\r\n",
        "\r\n",
        "    print(\"m: {}, b: {}, Cost: {}, Iteration: {}\".format(curr_m, curr_b, cost, i))\r\n"
      ],
      "execution_count": 17,
      "outputs": []
    },
    {
      "cell_type": "code",
      "metadata": {
        "id": "wS17_G5amUVl"
      },
      "source": [
        "x = np.array([1,2,3,4,5])\r\n",
        "y = np.array([5,7,9,11,13])\r\n",
        "gradient_descent(x,y)"
      ],
      "execution_count": null,
      "outputs": []
    },
    {
      "cell_type": "markdown",
      "metadata": {
        "id": "cnCvhbQ_Pr51"
      },
      "source": [
        "This is the exercise part now. "
      ]
    },
    {
      "cell_type": "code",
      "metadata": {
        "id": "Nkj_NQ_yPuc7"
      },
      "source": [
        "import pandas as pd\r\n",
        "import numpy as np\r\n",
        "from sklearn import linear_model\r\n",
        "import math"
      ],
      "execution_count": 29,
      "outputs": []
    },
    {
      "cell_type": "code",
      "metadata": {
        "colab": {
          "base_uri": "https://localhost:8080/",
          "height": 359
        },
        "id": "7XD5WcSZQFmS",
        "outputId": "5dc71cbe-7fad-436c-8d84-05ee336bc7a1"
      },
      "source": [
        "df = pd.read_csv('/content/sample_data/test_scores.csv')\r\n",
        "df"
      ],
      "execution_count": 20,
      "outputs": [
        {
          "output_type": "execute_result",
          "data": {
            "text/html": [
              "<div>\n",
              "<style scoped>\n",
              "    .dataframe tbody tr th:only-of-type {\n",
              "        vertical-align: middle;\n",
              "    }\n",
              "\n",
              "    .dataframe tbody tr th {\n",
              "        vertical-align: top;\n",
              "    }\n",
              "\n",
              "    .dataframe thead th {\n",
              "        text-align: right;\n",
              "    }\n",
              "</style>\n",
              "<table border=\"1\" class=\"dataframe\">\n",
              "  <thead>\n",
              "    <tr style=\"text-align: right;\">\n",
              "      <th></th>\n",
              "      <th>name</th>\n",
              "      <th>math</th>\n",
              "      <th>cs</th>\n",
              "    </tr>\n",
              "  </thead>\n",
              "  <tbody>\n",
              "    <tr>\n",
              "      <th>0</th>\n",
              "      <td>david</td>\n",
              "      <td>92</td>\n",
              "      <td>98</td>\n",
              "    </tr>\n",
              "    <tr>\n",
              "      <th>1</th>\n",
              "      <td>laura</td>\n",
              "      <td>56</td>\n",
              "      <td>68</td>\n",
              "    </tr>\n",
              "    <tr>\n",
              "      <th>2</th>\n",
              "      <td>sanjay</td>\n",
              "      <td>88</td>\n",
              "      <td>81</td>\n",
              "    </tr>\n",
              "    <tr>\n",
              "      <th>3</th>\n",
              "      <td>wei</td>\n",
              "      <td>70</td>\n",
              "      <td>80</td>\n",
              "    </tr>\n",
              "    <tr>\n",
              "      <th>4</th>\n",
              "      <td>jeff</td>\n",
              "      <td>80</td>\n",
              "      <td>83</td>\n",
              "    </tr>\n",
              "    <tr>\n",
              "      <th>5</th>\n",
              "      <td>aamir</td>\n",
              "      <td>49</td>\n",
              "      <td>52</td>\n",
              "    </tr>\n",
              "    <tr>\n",
              "      <th>6</th>\n",
              "      <td>venkat</td>\n",
              "      <td>65</td>\n",
              "      <td>66</td>\n",
              "    </tr>\n",
              "    <tr>\n",
              "      <th>7</th>\n",
              "      <td>virat</td>\n",
              "      <td>35</td>\n",
              "      <td>30</td>\n",
              "    </tr>\n",
              "    <tr>\n",
              "      <th>8</th>\n",
              "      <td>arthur</td>\n",
              "      <td>66</td>\n",
              "      <td>68</td>\n",
              "    </tr>\n",
              "    <tr>\n",
              "      <th>9</th>\n",
              "      <td>paul</td>\n",
              "      <td>67</td>\n",
              "      <td>73</td>\n",
              "    </tr>\n",
              "  </tbody>\n",
              "</table>\n",
              "</div>"
            ],
            "text/plain": [
              "     name  math  cs\n",
              "0   david    92  98\n",
              "1   laura    56  68\n",
              "2  sanjay    88  81\n",
              "3     wei    70  80\n",
              "4    jeff    80  83\n",
              "5   aamir    49  52\n",
              "6  venkat    65  66\n",
              "7   virat    35  30\n",
              "8  arthur    66  68\n",
              "9    paul    67  73"
            ]
          },
          "metadata": {
            "tags": []
          },
          "execution_count": 20
        }
      ]
    },
    {
      "cell_type": "code",
      "metadata": {
        "id": "J87iwVEEQeuC"
      },
      "source": [
        "x = np.array(df.math)\r\n",
        "y = np.array(df.cs)"
      ],
      "execution_count": 47,
      "outputs": []
    },
    {
      "cell_type": "code",
      "metadata": {
        "id": "YhD1EKT0Qmgb"
      },
      "source": [
        "def gradient_descent(x,y):\r\n",
        "    m_curr = 0\r\n",
        "    b_curr = 0\r\n",
        "    iterations = 1000000\r\n",
        "    n = len(x)\r\n",
        "    learning_rate = 0.0002\r\n",
        "\r\n",
        "    cost_previous = 0\r\n",
        "\r\n",
        "    for i in range(iterations):\r\n",
        "        y_predicted = m_curr * x + b_curr\r\n",
        "        cost = (1/n)*sum([value**2 for value in (y-y_predicted)])\r\n",
        "        md = -(2/n)*sum(x*(y-y_predicted))\r\n",
        "        bd = -(2/n)*sum(y-y_predicted)\r\n",
        "        m_curr = m_curr - learning_rate * md\r\n",
        "        b_curr = b_curr - learning_rate * bd\r\n",
        "        if math.isclose(cost, cost_previous, rel_tol=1e-20):\r\n",
        "            break\r\n",
        "        cost_previous = cost\r\n",
        "        print (\"m {}, b {}, cost {}, iteration {}\".format(m_curr,b_curr,cost, i))\r\n",
        "\r\n",
        "    return m_curr, b_curr\r\n"
      ],
      "execution_count": 62,
      "outputs": []
    },
    {
      "cell_type": "code",
      "metadata": {
        "id": "7HqMv0iNQrI7"
      },
      "source": [
        "def call_to_model():\r\n",
        "  df = pd.read_csv('/content/sample_data/test_scores.csv')\r\n",
        "  reg = linear_model.LinearRegression()\r\n",
        "  reg.fit(df[['math']],df.cs)\r\n",
        "  return reg.coef_, reg.intercept_"
      ],
      "execution_count": 60,
      "outputs": []
    },
    {
      "cell_type": "code",
      "metadata": {
        "colab": {
          "base_uri": "https://localhost:8080/"
        },
        "id": "Lbgvm50xQx2y",
        "outputId": "b526e790-27da-4695-a601-29b47e2896c4"
      },
      "source": [
        "m,b = gradient_descent_new(x,y)\r\n",
        "print(\"Value of m and b from gradient descent is:{}, {}\".format(m,b))"
      ],
      "execution_count": 63,
      "outputs": [
        {
          "output_type": "stream",
          "text": [
            "m 19.783600000000003, b 0.2796, cost 5199.1, iteration 0\n",
            "m -335.1297587200002, b -4.728096320000001, cost 1663047.8675860171, iteration 1\n",
            "m 6031.9342997386275, b 85.11708759526404, cost 535217407.45495206, iteration 2\n",
            "m -108191.7332859175, b -1526.6766256452784, cost 172251878290.197, iteration 3\n",
            "m 1940954.6398105891, b 27388.54081485446, cost 55436745729521.01, iteration 4\n",
            "m -34820260.85414845, b -491343.8135057944, cost 1.7841505173406942e+16, iteration 5\n",
            "m 624667505.5305753, b 8814595.541576693, cost 5.742027290093572e+18, iteration 6\n",
            "m -11206391619.34151, b -158131820.03875938, cost 1.8479874360221043e+21, iteration 7\n",
            "m 201040092926.6073, b 2836848548.2090473, cost 5.947477068921944e+23, iteration 8\n",
            "m -3606613112643.927, b -50892411675.69367, cost 1.914108440125197e+26, iteration 9\n",
            "m 64701811240801.0, b 912998181669.7458, cost 6.1602778423534605e+28, iteration 10\n",
            "m -1160735639529129.0, b -16378977774598.684, cost 1.9825952542432165e+31, iteration 11\n",
            "m 2.082333089345585e+16, b 293835101018683.25, cost 6.380692629029295e+33, iteration 12\n",
            "m -3.735657756440163e+17, b -5271334254116795.0, cost 2.0535325270759615e+36, iteration 13\n",
            "m 6.701684252463777e+18, b 9.456652633498083e+16, cost 6.608993858399544e+38, iteration 14\n",
            "m -1.2022667692802703e+20, b -1.6965017720286804e+18, cost 2.127007936054337e+41, iteration 15\n",
            "m 2.156838982654579e+21, b 3.0434852310228263e+19, cost 6.845463707442026e+43, iteration 16\n",
            "m -3.869319618542983e+22, b -5.4599426326431616e+20, cost 2.2031122957083687e+46, iteration 17\n",
            "m 6.941470564490137e+23, b 9.79501173453559e+21, cost 7.090394449428914e+48, iteration 18\n",
            "m -1.2452838831604979e+25, b -1.7572026179557906e+23, cost 2.2819396699126415e+51, iteration 19\n",
            "m 2.234010697376187e+26, b 3.152381155056453e+24, cost 7.344088815172226e+53, iteration 20\n",
            "m -4.00776390305856e+27, b -5.655299420345549e+25, cost 2.363587488147861e+56, iteration 21\n",
            "m 7.18983643253095e+28, b 1.0145477326706056e+27, cost 7.606860367194653e+58, iteration 22\n",
            "m -1.2898401496929207e+30, b -1.8200753405982775e+28, cost 2.4481566659222774e+61, iteration 23\n",
            "m 2.31394361662023e+31, b 3.265173376055896e+29, cost 7.879033887288275e+63, iteration 24\n",
            "m -4.151161725096126e+32, b -5.857646075354087e+30, cost 2.5357517295017685e+66, iteration 25\n",
            "m 7.447088833163748e+33, b 1.050848258035158e+32, cost 8.160945777940082e+68, iteration 26\n",
            "m -1.335990639770797e+35, b -1.8851976497210517e+33, cost 2.6264809451027803e+71, iteration 27\n",
            "m 2.3967365363049067e+36, b 3.3820013035553524e+34, cost 8.452944478120553e+73, iteration 28\n",
            "m -4.299690322264791e+37, b -6.067232695172597e+35, cost 2.720456452707776e+76, iteration 29\n",
            "m 7.713545726590281e+38, b 1.0884476164652332e+37, cost 8.755390893949072e+78, iteration 30\n",
            "m -1.3837923947243523e+40, b -1.952650035544986e+38, cost 2.817794404668627e+81, iteration 31\n",
            "m 2.4824917872670968e+41, b 3.5030093351631885e+39, cost 9.068658844768658e+83, iteration 32\n",
            "m -4.453533273736621e+42, b -6.284318325795429e+40, cost 2.918615109269207e+86, iteration 33\n",
            "m 7.989536449630657e+43, b 1.1273922802175029e+42, cost 9.393135525181182e+88, iteration 34\n",
            "m -1.433304496823029e+45, b -2.022515868231648e+43, cost 3.0230431794246744e+91, iteration 35\n",
            "m 2.5713153617417765e+46, b 3.628347035035261e+44, cost 9.729221983614218e+93, iteration 36\n",
            "m -4.612880727147811e+47, b -6.509171281884515e+45, cost 3.131207686701212e+96, iteration 37\n",
            "m 8.275402122778836e+48, b 1.1677303843263253e+47, cost 1.0077333618011041e+99, iteration 38\n",
            "m -1.4845881423003045e+50, b -2.094881500927603e+48, cost 3.243242320846598e+101, iteration 39\n",
            "m 2.6633170443668742e+51, b 3.758169318734024e+49, cost 1.0437900689256422e+104, iteration 40\n",
            "m -4.7779296336183916e+52, b -6.742069478402378e+50, cost 3.35928555502877e+106, iteration 41\n",
            "m 8.571496071822579e+53, b 1.2095117860979464e+52, cost 1.0811368852972732e+109, iteration 42\n",
            "m -1.5377067169913432e+55, b -2.169836376495638e+53, cost 3.479480816986634e+111, iteration 43\n",
            "m 2.758610547875473e+56, b 3.892636644701903e+54, cost 1.1198199710343843e+114, iteration 44\n",
            "m -4.948883991180912e+57, b -6.983300774110954e+55, cost 3.603976666304655e+116, iteration 45\n",
            "m 8.878184264548926e+58, b 1.2527881267333944e+57, cost 1.159887137864734e+119, iteration 46\n",
            "m -1.5927258746769587e+60, b -2.2474731380648272e+58, cost 3.7329269780303275e+121, iteration 47\n",
            "m 2.8573136536430844e+61, b 4.031915212585576e+59, cost 1.2013879082200585e+124, iteration 48\n",
            "m -5.1259550969190395e+62, b -7.233163327360798e+60, cost 3.866491132861484e+126, iteration 49\n",
            "m 9.195845763075062e+63, b 1.297612895156254e+62, cost 1.2443735764450636e+129, iteration 50\n",
            "m -1.649713618230729e+65, b -2.3278877435360933e+63, cost 4.004834214138498e+131, iteration 51\n",
            "m 2.959548357263708e+66, b 4.176177168656313e+64, cost 1.2888972721964887e+134, iteration 52\n",
            "m -5.3093618081276534e+67, b -7.491965964610459e+65, cost 4.1481272118848766e+136, iteration 53\n",
            "m 9.524873192363503e+68, b 1.3440414941241887e+67, cost 1.3350140261105823e+139, iteration 54\n",
            "m -1.708740383669548e+70, b -2.4111795841847593e+68, cost 4.296547234148444e+141, iteration 55\n",
            "m 3.065441019334596e+71, b 4.325600818580231e+69, cost 1.382780837820166e+144, iteration 56\n",
            "m -5.499330812817257e+72, b -7.76002856213145e+70, cost 4.450277725904268e+146, iteration 57\n",
            "m 9.865673225500835e+73, b 1.392131308705942e+72, cost 1.4322567464053433e+149, iteration 58\n",
            "m -1.769879127211516e+75, b -2.4974516075067114e+73, cost 4.6095086957899846e+151, iteration 59\n",
            "m 3.175122521636101e+76, b 4.4803708478015033e+74, cost 1.4835029033649388e+154, iteration 60\n",
            "m -5.696096909897042e+77, b -8.037682441370631e+75, cost 4.774436950953684e+156, iteration 61\n",
            "m 1.021866708633967e+79, b 1.4419417772084383e+77, cost 1.5365826481988573e+159, iteration 62\n",
            "m -1.8332054154487534e+80, b -2.586810444459999e+78, cost 4.945266340304676e+161, iteration 63\n",
            "m 3.288728428899644e+81, b 4.6406785498108544e+79, cost 1.5915615866947802e+164, iteration 64\n",
            "m -5.899903299382911e+82, b -8.325270778458688e+80, cost 5.1222080064677455e+166, iteration 65\n",
            "m 1.0584291070125196e+84, b 1.4935344646416656e+82, cost 1.648507672015953e+169, iteration 66\n",
            "m -1.898797518746608e+85, b -2.679366541259143e+83, cost 5.305480646752351e+171, iteration 67\n",
            "m 3.406399156363741e+86, b 4.8067220625815265e+84, cost 1.7074912886903059e+174, iteration 68\n",
            "m -6.111001882989128e+87, b -8.623149028370798e+85, cost 5.495310783459295e+176, iteration 69\n",
            "m 1.0962997082749678e+89, b 1.546973138812122e+87, cost 1.768585339604695e+179, iteration 70\n",
            "m -1.9667365079846734e+90, b -2.775234295885027e+88, cost 5.691933043858977e+181, iteration 71\n",
            "m 3.528280143325171e+91, b 4.978706613464899e+89, cost 1.8318653361118095e+184, iteration 72\n",
            "m -6.329653575475145e+92, b -8.931685364263754e+90, cost 5.895590450187267e+186, iteration 73\n",
            "m 1.1355253199301555e+94, b 1.6023238491388916e+92, cost 1.8974094913610948e+189, iteration 74\n",
            "m -2.0371063547592168e+95, b -2.874532199479142e+93, cost 6.106534720017425e+191, iteration 75\n",
            "m 3.6545220328998325e+96, b 5.156844772848505e+94, cost 1.965298816969061e+194, iteration 76\n",
            "m -6.556128627132446e+97, b -9.251261132532642e+95, cost 6.3250265773793376e+196, iteration 77\n",
            "m 1.1761544242599365e+99, b 1.6596550082897645e+97, cost 2.0356172231484524e+199, iteration 78\n",
            "m -2.109994035170837e+100, b -2.977382982796891e+98, cost 6.551336075010609e+201, iteration 79\n",
            "m 3.785280858215417e+101, b 5.341356716889906e+99, cost 2.1084516224200452e+204, iteration 80\n",
            "m -6.790706957809924e+102, b -9.58227132414936e+100, cost 6.785742928137788e+206, iteration 81\n",
            "m 1.2182372382425694e+104, b 1.7190374767382845e+102, cost 2.1838920370352554e+209, iteration 82\n",
            "m -2.1854896373256568e+105, b -3.0839137679010122e+103, cost 7.028536860200302e+211, iteration 83\n",
            "m 3.9207182352660825e+106, b 5.5324704996512144e+104, cost 2.2620317102423144e+214, iteration 84\n",
            "m -7.033678502890752e+107, b -9.925125062865711e+105, cost 7.280017960944368e+216, iteration 85\n",
            "m 1.261825775620165e+109, b 1.7805446503462667e+107, cost 2.3429672215335655e+219, iteration 86\n",
            "m -2.2636864726829004e+110, b -3.194256225282593e+108, cost 7.540497057329538e+221, iteration 87\n",
            "m 4.0610015626674456e+111, b 5.730422334970564e+109, cost 2.4267986060162996e+224, iteration 88\n",
            "m -7.285343571648236e+112, b -1.0280246110884346e+111, cost 7.810296097706277e+226, iteration 89\n",
            "m 1.3069739111869104e+114, b 1.8442525510800007e+112, cost 2.513629478054687e+229, iteration 90\n",
            "m -2.3446811913864907e+115, b -3.308546736603856e+113, cost 8.089748549739412e+231, iteration 91\n",
            "m 4.206304228558831e+116, b 5.93545688841896e+114, cost 2.603567159335609e+234, iteration 92\n",
            "m -7.546013218423705e+117, b -1.0648073392622671e+116, cost 8.379199812569264e+236, iteration 93\n",
            "m 1.3537374473775266e+119, b 1.9102399209722926e+117, cost 2.6967228115167036e+239, iteration 94\n",
            "m -2.4285739017232155e+120, b -3.4269265632639113e+118, cost 8.679007643719959e+241, iteration 95\n",
            "m 4.356805824908465e+121, b 6.147827579703348e+119, cost 2.793211573620529e+244, iteration 96\n",
            "m -7.816009627085122e+122, b -1.1029061537216968e+121, cost 8.989542601282477e+246, iteration 97\n",
            "m 1.402174183238262e+124, b 1.9785883194464635e+122, cost 2.8931527043447344e+249, iteration 98\n",
            "m -2.515468293855103e+125, b -3.549542020995769e+123, cost 9.311188501919007e+251, iteration 99\n",
            "m 4.5126923694865234e+126, b 6.367796895889657e+124, cost 2.996669729464034e+254, iteration 100\n",
            "m -8.09566650924161e+127, b -1.1423681440437381e+126, cost 9.64434289525477e+256, iteration 101\n",
            "m 1.4523439858656634e+129, b 2.049382224122602e+127, cost 3.103890594506286e+259, iteration 102\n",
            "m -2.60547176797894e+130, b -3.676544660710441e+128, cost 9.989417555243492e+261, iteration 103\n",
            "m 4.674156535780371e+131, b 6.595636715832968e+129, cost 3.214947822891276e+264, iteration 104\n",
            "m -8.385329516706143e+132, b -1.1832420846708185e+131, cost 1.0346838989114041e+267, iteration 105\n",
            "m 1.5043088644014381e+134, b 2.1227091352306683e+132, cost 3.329978679727731e+269, iteration 106\n",
            "m -2.698695567071353e+135, b -3.8080914558116684e+133, cost 1.0717048964527022e+272, iteration 107\n",
            "m 4.841397891136173e+136, b 6.831628646215814e+134, cost 3.4491253414709733e+274, iteration 108\n",
            "m -8.685356668716108e+137, b -1.225578495195276e+136, cost 1.110050505559325e+277, iteration 109\n",
            "m 1.5581330466748375e+139, b 2.198659683759495e+137, cost 3.5725350716509547e+279, iteration 110\n",
            "m -2.7952549143834893e+140, b -3.94434499621272e+138, cost 1.1497681208428577e+282, iteration 111\n",
            "m 5.0146231434212154e+141, b 7.076064369609897e+139, cost 3.7003604028878105e+284, iteration 112\n",
            "m -8.996118794439853e+142, b -1.2694297028008342e+141, cost 1.190906832694439e+287, iteration 113\n",
            "m 1.6138830585873207e+144, b 2.277327743475366e+142, cost 3.832759325419955e+289, iteration 114\n",
            "m -2.895269155855274e+145, b -4.085473689295175e+143, cost 1.233517487959764e+292, iteration 115\n",
            "m 5.1940463965118e+146, b 7.329246004991493e+144, cost 3.969895482377694e+294, iteration 116\n",
            "m -9.3179999913161e+147, b -1.3148499069382378e+146, cost 1.2776527527850425e+297, iteration 117\n",
            "m 1.67162780633759e+149, b 2.3588105469486143e+147, cost 4.111938372043749e+299, iteration 118\n",
            "m -2.9988619076252462e+150, b -4.23165196805796e+148, cost 1.3233671777115863e+302, iteration 119\n",
            "m 5.379889414922507e+151, b 7.591486481156085e+149, cost 4.2590635573506465e+304, iteration 120\n",
            "m -9.651398099792776e+152, b -1.3618952463149792e+151, cost 1.370717265099474e+307, iteration 121\n",
            "m 1.7314386615886482e+154, b 2.443208805731658e+152, cost inf, iteration 122\n",
            "Value of m and b from gradient descent is:1.7314386615886482e+154, 2.443208805731658e+152\n"
          ],
          "name": "stdout"
        },
        {
          "output_type": "stream",
          "text": [
            "/usr/local/lib/python3.6/dist-packages/ipykernel_launcher.py:12: RuntimeWarning: overflow encountered in double_scalars\n",
            "  if sys.path[0] == '':\n"
          ],
          "name": "stderr"
        }
      ]
    },
    {
      "cell_type": "code",
      "metadata": {
        "colab": {
          "base_uri": "https://localhost:8080/"
        },
        "id": "MGZdvxUgTVCk",
        "outputId": "799bb390-22e7-470f-87a8-597f6a6c8304"
      },
      "source": [
        "mb,bb = call_to_model()\r\n",
        "print(\"Value of m and b from linear regression model is:{}, {}\".format(mb,bb))"
      ],
      "execution_count": 64,
      "outputs": [
        {
          "output_type": "stream",
          "text": [
            "Value of m and b from linear regression model is:[1.01773624], 1.9152193111569034\n"
          ],
          "name": "stdout"
        }
      ]
    }
  ]
}